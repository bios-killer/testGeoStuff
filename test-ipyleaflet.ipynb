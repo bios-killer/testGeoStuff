{
 "cells": [
  {
   "cell_type": "code",
   "execution_count": null,
   "metadata": {},
   "outputs": [],
   "source": [
    "# https://readthedocs.org/projects/ipyleaflet/downloads/pdf/latest/\n",
    "# https://ipyleaflet.readthedocs.io/en/latest/api_reference/marker.html\n",
    "\n",
    "from ipyleaflet import Map, Marker\n",
    "# center = (52.204793, 360.121558)\n",
    "center=(50.68541970841675, 370.9257745742798)\n",
    "m = Map(center=center, zoom=15)\n",
    "m"
   ]
  },
  {
   "cell_type": "code",
   "execution_count": null,
   "metadata": {},
   "outputs": [],
   "source": [
    "from pprint import pprint\n",
    "pprint(vars(m))"
   ]
  },
  {
   "cell_type": "code",
   "execution_count": null,
   "metadata": {},
   "outputs": [],
   "source": [
    "m._trait_values['zoom']"
   ]
  },
  {
   "cell_type": "code",
   "execution_count": null,
   "metadata": {},
   "outputs": [],
   "source": [
    "m._trait_values['center']"
   ]
  },
  {
   "cell_type": "code",
   "execution_count": null,
   "metadata": {},
   "outputs": [],
   "source": [
    "marker = Marker(location=center, draggable=True)\n",
    "m.add_layer(marker);\n",
    "display(m)"
   ]
  },
  {
   "cell_type": "code",
   "execution_count": null,
   "metadata": {},
   "outputs": [],
   "source": [
    "# Map\n",
    "\n",
    "from ipyleaflet import Map, basemaps, basemap_to_tiles\n",
    "m = Map(\n",
    "layers=(basemap_to_tiles(basemaps.NASAGIBS.ModisTerraTrueColorCR, \"2017-04-08\"),),\n",
    "center=(52.204793, 360.121558),\n",
    "zoom=4\n",
    ")\n",
    "m"
   ]
  },
  {
   "cell_type": "code",
   "execution_count": null,
   "metadata": {},
   "outputs": [],
   "source": [
    "# Basemaps\n",
    "\n",
    "from ipyleaflet import Map, basemaps\n",
    "center = [38.128, 2.588]\n",
    "zoom = 5"
   ]
  },
  {
   "cell_type": "code",
   "execution_count": null,
   "metadata": {},
   "outputs": [],
   "source": [
    "Map(basemap=basemaps.OpenStreetMap.Mapnik, center=center, zoom=zoom)"
   ]
  },
  {
   "cell_type": "code",
   "execution_count": null,
   "metadata": {},
   "outputs": [],
   "source": [
    "Map(basemap=basemaps.OpenStreetMap.BlackAndWhite, center=center, zoom=zoom)"
   ]
  },
  {
   "cell_type": "code",
   "execution_count": null,
   "metadata": {},
   "outputs": [],
   "source": [
    "Map(basemap=basemaps.OpenStreetMap.DE, center=center, zoom=zoom)"
   ]
  },
  {
   "cell_type": "code",
   "execution_count": null,
   "metadata": {},
   "outputs": [],
   "source": [
    "Map(basemap=basemaps.OpenStreetMap.HOT, center=center, zoom=zoom)"
   ]
  },
  {
   "cell_type": "code",
   "execution_count": null,
   "metadata": {},
   "outputs": [],
   "source": [
    "Map(basemap=basemaps.OpenTopoMap, center=center, zoom=zoom)"
   ]
  },
  {
   "cell_type": "code",
   "execution_count": null,
   "metadata": {},
   "outputs": [],
   "source": [
    "Map(basemap=basemaps.Hydda.Full, center=center, zoom=zoom)"
   ]
  },
  {
   "cell_type": "code",
   "execution_count": null,
   "metadata": {},
   "outputs": [],
   "source": [
    "Map(basemap=basemaps.Hydda.Base, center=center, zoom=zoom)"
   ]
  },
  {
   "cell_type": "code",
   "execution_count": null,
   "metadata": {},
   "outputs": [],
   "source": [
    "Map(basemap=basemaps.Esri.WorldStreetMap, center=center, zoom=zoom)"
   ]
  },
  {
   "cell_type": "code",
   "execution_count": null,
   "metadata": {},
   "outputs": [],
   "source": [
    "Map(basemap=basemaps.Esri.DeLorme, center=center, zoom=zoom)"
   ]
  },
  {
   "cell_type": "code",
   "execution_count": null,
   "metadata": {},
   "outputs": [],
   "source": [
    "Map(basemap=basemaps.Esri.WorldTopoMap, center=center, zoom=zoom)"
   ]
  },
  {
   "cell_type": "code",
   "execution_count": null,
   "metadata": {},
   "outputs": [],
   "source": [
    "Map(basemap=basemaps.Esri.WorldImagery, center=center, zoom=zoom)"
   ]
  },
  {
   "cell_type": "code",
   "execution_count": null,
   "metadata": {},
   "outputs": [],
   "source": [
    "Map(basemap=basemaps.Esri.NatGeoWorldMap, center=center, zoom=zoom)"
   ]
  },
  {
   "cell_type": "code",
   "execution_count": null,
   "metadata": {},
   "outputs": [],
   "source": [
    "Map(basemap=basemaps.HikeBike.HikeBike, center=center, zoom=zoom)"
   ]
  },
  {
   "cell_type": "code",
   "execution_count": null,
   "metadata": {},
   "outputs": [],
   "source": [
    "Map(basemap=basemaps.MtbMap, center=center, zoom=zoom)"
   ]
  },
  {
   "cell_type": "code",
   "execution_count": null,
   "metadata": {},
   "outputs": [],
   "source": [
    "Map(basemap=basemaps.CartoDB.Positron, center=center, zoom=zoom)"
   ]
  },
  {
   "cell_type": "code",
   "execution_count": null,
   "metadata": {},
   "outputs": [],
   "source": [
    "Map(basemap=basemaps.CartoDB.DarkMatter, center=center, zoom=zoom)"
   ]
  },
  {
   "cell_type": "code",
   "execution_count": null,
   "metadata": {},
   "outputs": [],
   "source": [
    "Map(basemap=basemaps.NASAGIBS.ModisTerraTrueColorCR, center=center, zoom=zoom)"
   ]
  },
  {
   "cell_type": "code",
   "execution_count": null,
   "metadata": {},
   "outputs": [],
   "source": [
    "Map(basemap=basemaps.NASAGIBS.ModisTerraBands367CR, center=center, zoom=zoom)"
   ]
  },
  {
   "cell_type": "code",
   "execution_count": null,
   "metadata": {},
   "outputs": [],
   "source": [
    "Map(basemap=basemaps.NASAGIBS.ModisTerraBands721CR, center=center, zoom=zoom)"
   ]
  },
  {
   "cell_type": "code",
   "execution_count": null,
   "metadata": {},
   "outputs": [],
   "source": [
    "Map(basemap=basemaps.NASAGIBS.ModisAquaTrueColorCR, center=center, zoom=zoom)"
   ]
  },
  {
   "cell_type": "code",
   "execution_count": null,
   "metadata": {},
   "outputs": [],
   "source": [
    "Map(basemap=basemaps.NASAGIBS.ModisAquaBands721CR, center=center, zoom=zoom)"
   ]
  },
  {
   "cell_type": "code",
   "execution_count": null,
   "metadata": {},
   "outputs": [],
   "source": [
    "Map(basemap=basemaps.NASAGIBS.ViirsTrueColorCR, center=center, zoom=zoom)"
   ]
  },
  {
   "cell_type": "code",
   "execution_count": null,
   "metadata": {},
   "outputs": [],
   "source": [
    "Map(basemap=basemaps.NASAGIBS.ViirsEarthAtNight2012, center=center, zoom=zoom)"
   ]
  },
  {
   "cell_type": "code",
   "execution_count": null,
   "metadata": {},
   "outputs": [],
   "source": [
    "Map(basemap=basemaps.Strava.All, center=center, zoom=zoom)"
   ]
  },
  {
   "cell_type": "code",
   "execution_count": null,
   "metadata": {},
   "outputs": [],
   "source": [
    "Map(basemap=basemaps.Strava.Ride, center=center, zoom=zoom)"
   ]
  },
  {
   "cell_type": "code",
   "execution_count": null,
   "metadata": {},
   "outputs": [],
   "source": [
    "Map(basemap=basemaps.Strava.Run, center=center, zoom=zoom)"
   ]
  },
  {
   "cell_type": "code",
   "execution_count": null,
   "metadata": {},
   "outputs": [],
   "source": [
    "Map(basemap=basemaps.Strava.Water, center=center, zoom=zoom)"
   ]
  },
  {
   "cell_type": "code",
   "execution_count": null,
   "metadata": {},
   "outputs": [],
   "source": [
    "Map(basemap=basemaps.Strava.Winter, center=center, zoom=zoom)"
   ]
  },
  {
   "cell_type": "code",
   "execution_count": null,
   "metadata": {},
   "outputs": [],
   "source": [
    "Map(basemap=basemaps.Stamen.Terrain, center=center, zoom=zoom)"
   ]
  },
  {
   "cell_type": "code",
   "execution_count": null,
   "metadata": {},
   "outputs": [],
   "source": [
    "Map(basemap=basemaps.Stamen.Toner, center=center, zoom=zoom)"
   ]
  },
  {
   "cell_type": "code",
   "execution_count": null,
   "metadata": {},
   "outputs": [],
   "source": [
    "Map(basemap=basemaps.Stamen.Watercolor, center=center, zoom=zoom)"
   ]
  },
  {
   "cell_type": "code",
   "execution_count": null,
   "metadata": {},
   "outputs": [],
   "source": [
    "# Tile Layer\n",
    "\n",
    "from ipyleaflet import Map, basemaps, basemap_to_tiles\n",
    "m = Map(center=(52.204793, 360.121558), zoom=9)\n",
    "# dark_matter_layer = basemap_to_tiles(basemaps.CartoDB.DarkMatter)\n",
    "m.add_layer(dark_matter_layer)\n",
    "m"
   ]
  },
  {
   "cell_type": "code",
   "execution_count": null,
   "metadata": {},
   "outputs": [],
   "source": [
    "nasa_layer = basemap_to_tiles(basemaps.NASAGIBS.ModisTerraTrueColorCR, \"2018-04-08\");\n",
    "m.add_layer(nasa_layer);\n",
    "m"
   ]
  },
  {
   "cell_type": "code",
   "execution_count": null,
   "metadata": {},
   "outputs": [],
   "source": [
    "# Local Tile Layer\n",
    "\n",
    "from ipyleaflet import Map, LocalTileLayer\n",
    "m = Map(center=(52.204793, 360.121558), zoom=9)\n",
    "m.add_layer(LocalTileLayer(path='tiles/{z}/{x}/{y}.png'))\n",
    "m"
   ]
  },
  {
   "cell_type": "code",
   "execution_count": null,
   "metadata": {},
   "outputs": [],
   "source": [
    "# Marker\n",
    "\n",
    "from ipyleaflet import Map, Marker\n",
    "center = (52.204793, 360.121558)\n",
    "m = Map(center=center, zoom=15)\n",
    "marker = Marker(location=center, draggable=False)\n",
    "m.add_layer(marker);\n",
    "m"
   ]
  },
  {
   "cell_type": "code",
   "execution_count": null,
   "metadata": {},
   "outputs": [],
   "source": [
    "# Icon\n",
    "\n",
    "from ipyleaflet import Marker, Icon, Map\n",
    "center = (52.204793, 360.121558)\n",
    "m = Map(center=center, zoom=10)\n",
    "icon = Icon(icon_url='https://leafletjs.com/examples/custom-icons/leaf-green.png', icon_size=[38, 95], icon_anchor=[22,94])\n",
    "mark = Marker(location=center, icon=icon, rotation_angle=90, rotation_origin='22px 94px')\n",
    "m.add_layer(mark);\n",
    "m\n"
   ]
  },
  {
   "cell_type": "code",
   "execution_count": null,
   "metadata": {},
   "outputs": [],
   "source": [
    "# from ipyleaflet import AwesomeIcon, Marker, Map\n",
    "# center = (38.91342738235981, -77.03912909142674)\n",
    "# icon1 = AwesomeIcon(\n",
    "# name='bus',\n",
    "# marker_color='red',\n",
    "# icon_color='black',\n",
    "# spin=False\n",
    "# )\n",
    "# marker1 = Marker(icon=icon1, location=(center[0], center[1] - 0.05))\n",
    "# icon2 = AwesomeIcon(\n",
    "# name='gear',\n",
    "# marker_color='green',\n",
    "# icon_color='darkgreen',\n",
    "# spin=True\n",
    "# )\n",
    "# marker2 = Marker(icon=icon2, location=(center[0], center[1] + 0.05))\n",
    "# m1 = Map(center=center, zoom=13)\n",
    "# m1.add_layer(marker1)\n",
    "# m1.add_layer(marker2)\n",
    "# m1"
   ]
  },
  {
   "cell_type": "code",
   "execution_count": null,
   "metadata": {},
   "outputs": [],
   "source": [
    "from ipywidgets import HTML\n",
    "from ipyleaflet import Map, Marker, Popup\n",
    "center = (52.204793, 360.121558)\n",
    "m = Map(center=center, zoom=9, close_popup_on_click=False)\n",
    "marker = Marker(location=(52.1, 359.9))\n",
    "m.add_layer(marker)\n",
    "message1 = HTML()\n",
    "message2 = HTML()\n",
    "message1.value = \"Try clicking the marker!\"\n",
    "message2.value = \"Hello <b>World</b>\"\n",
    "message2.placeholder = \"Some HTML\"\n",
    "message2.description = \"Some HTML\"\n",
    "# Popup with a given location on the map:\n",
    "popup = Popup(\n",
    "location=center,\n",
    "child=message1,\n",
    "close_button=False,\n",
    "auto_close=False,\n",
    "close_on_escape_key=False\n",
    ")\n",
    "m.add_layer(popup)\n",
    "# Popup associated to a layer\n",
    "marker.popup = message2\n",
    "m"
   ]
  },
  {
   "cell_type": "code",
   "execution_count": null,
   "metadata": {},
   "outputs": [],
   "source": [
    "from ipyleaflet import Map, WMSLayer, basemaps\n",
    "wms = WMSLayer(\n",
    "url='http://mesonet.agron.iastate.edu/cgi-bin/wms/nexrad/n0r.cgi',\n",
    "layers='nexrad-n0r-900913',\n",
    "format='image/png',\n",
    "transparent=True,\n",
    "attribution='Weather data © 2012 IEM Nexrad'\n",
    ")\n",
    "m = Map(basemap=basemaps.CartoDB.Positron, center=(38.491, -95.712), zoom=4)\n",
    "m.add_layer(wms)\n",
    "m"
   ]
  },
  {
   "cell_type": "code",
   "execution_count": null,
   "metadata": {},
   "outputs": [],
   "source": [
    "from traitlets import Unicode\n",
    "class TimeWMSLayer(WMSLayer):\n",
    "    time = Unicode('').tag(sync=True, o=True)\n",
    "\n",
    "time_wms = TimeWMSLayer(\n",
    "    url='https://mesonet.agron.iastate.edu/cgi-bin/wms/nexrad/n0r-t.cgi?',\n",
    "    layers='nexrad-n0r-wmst',\n",
    "    time='2005-08-29T13:00:00Z',\n",
    "    format='image/png',\n",
    "    transparent=True,\n",
    "    attribution='Weather data © 2012 IEM Nexrad'\n",
    ")\n",
    "m2 = Map(basemap=basemaps.CartoDB.Positron, center=(30.661, -88.645), zoom=5)\n",
    "m2.add_layer(time_wms)\n",
    "m2"
   ]
  },
  {
   "cell_type": "code",
   "execution_count": null,
   "metadata": {},
   "outputs": [],
   "source": [
    "# Because it is a widget, you can dynamically update WMS parameters from Python manually\n",
    "# This will redraw the layer dynamically\n",
    "time_wms.time = '2005-08-29T14:00'\n",
    "m2"
   ]
  },
  {
   "cell_type": "code",
   "execution_count": null,
   "metadata": {},
   "outputs": [],
   "source": [
    "# Or from another widget like a slider\n",
    "from ipywidgets import SelectionSlider\n",
    "time_options = [\n",
    "    '13:00', '13:30',\n",
    "    '14:00', '14:30',\n",
    "    '15:00', '15:30',\n",
    "    '16:00', '16:30'\n",
    "]\n",
    "slider = SelectionSlider(description='Time:', options=time_options)\n",
    "def update_wms(change):\n",
    "    time_wms.time = '2005-08-29T{}'.format(slider.value)\n",
    "slider.observe(update_wms, 'value')\n",
    "slider"
   ]
  },
  {
   "cell_type": "code",
   "execution_count": null,
   "metadata": {},
   "outputs": [],
   "source": [
    "from ipyleaflet import Map, VideoOverlay\n",
    "m = Map(center=(25, -115), zoom=4)\n",
    "video = VideoOverlay(\n",
    "url=\"https://www.mapbox.com/bites/00188/patricia_nasa.webm\",\n",
    "bounds=((13, -130), (32, -100))\n",
    ")\n",
    "m.add_layer(video);\n",
    "m"
   ]
  },
  {
   "cell_type": "code",
   "execution_count": null,
   "metadata": {},
   "outputs": [],
   "source": [
    "from ipyleaflet import Map, AntPath\n",
    "m = Map(center=(51.332, 6.853), zoom=10)\n",
    "ant_path = AntPath(\n",
    "    locations=[\n",
    "        [51.185, 6.773], [51.182, 6.752], [51.185, 6.733], [51.194, 6.729],\n",
    "        [51.205, 6.732], [51.219, 6.723], [51.224, 6.723], [51.227, 6.728],\n",
    "        [51.228, 6.734], [51.226, 6.742], [51.221, 6.752], [51.221, 6.758],\n",
    "        [51.224, 6.765], [51.230, 6.768], [51.239, 6.765], [51.246, 6.758],\n",
    "        [51.252, 6.745], [51.257, 6.724], [51.262, 6.711], [51.271, 6.701],\n",
    "        [51.276, 6.702], [51.283, 6.710], [51.297, 6.725], [51.304, 6.732],\n",
    "        [51.312, 6.735], [51.320, 6.734], [51.326, 6.726], [51.334, 6.713],\n",
    "        [51.340, 6.696], [51.344, 6.678], [51.349, 6.662], [51.354, 6.655],\n",
    "        [51.360, 6.655], [51.366, 6.662], [51.369, 6.675], [51.373, 6.704],\n",
    "        [51.376, 6.715], [51.385, 6.732], [51.394, 6.741], [51.402, 6.743],\n",
    "        [51.411, 6.742], [51.420, 6.733], [51.429, 6.718], [51.439, 6.711],\n",
    "        [51.448, 6.716], [51.456, 6.724], [51.466, 6.719], [51.469, 6.713],\n",
    "        [51.470, 6.701], [51.473, 6.686], [51.479, 6.680], [51.484, 6.680],\n",
    "        [51.489, 6.685], [51.493, 6.700], [51.497, 6.714]\n",
    "    ],\n",
    "    dash_array=[1, 10],\n",
    "    delay=1000,\n",
    "    color='#7590ba',\n",
    "    pulse_color='#3f6fba'\n",
    ")\n",
    "m.add_layer(ant_path)\n",
    "m"
   ]
  },
  {
   "cell_type": "code",
   "execution_count": null,
   "metadata": {},
   "outputs": [],
   "source": [
    "from ipyleaflet import Map, Polyline\n",
    "line = Polyline(\n",
    "locations=[\n",
    "[45.51, -122.68],\n",
    "[37.77, -122.43],\n",
    "[34.04, -118.22]\n",
    "],\n",
    "color=\"green\" ,\n",
    "fill=False\n",
    ")\n",
    "m = Map(center = (42.5, -41), zoom =2)\n",
    "m.add_layer(line)\n",
    "m"
   ]
  },
  {
   "cell_type": "code",
   "execution_count": null,
   "metadata": {},
   "outputs": [],
   "source": [
    "from ipyleaflet import Map, Polyline\n",
    "lines = Polyline(\n",
    "locations=[\n",
    "[[45.51, -122.68],\n",
    "[37.77, -122.43],\n",
    "[34.04, -118.2]],\n",
    "[[40.78, -73.91],\n",
    "[41.83, -87.62],\n",
    "[32.76, -96.72]]\n",
    "],\n",
    "color=\"green\" ,\n",
    "fill=False\n",
    ")\n",
    "m = Map(center = (42.5, -41), zoom =2)\n",
    "m.add_layer(lines)\n",
    "m"
   ]
  },
  {
   "cell_type": "code",
   "execution_count": null,
   "metadata": {},
   "outputs": [],
   "source": [
    "from ipyleaflet import Map, Polygon\n",
    "polygon = Polygon(\n",
    "locations=[(42, -49), (43, -49), (43, -48)],\n",
    "color=\"green\",\n",
    "fill_color=\"green\"\n",
    ")\n",
    "m = Map(center=(42.5531, -48.6914), zoom=6)\n",
    "m.add_layer(polygon);\n",
    "m\n"
   ]
  },
  {
   "cell_type": "code",
   "execution_count": null,
   "metadata": {},
   "outputs": [],
   "source": [
    "from ipyleaflet import Map, Polygon\n",
    "hole_polygon = Polygon(\n",
    "locations= [[(37, -109.05),(41, -109.03),(41, -102.05),(37, -102.04)],\n",
    "[(37.29, -108.58),(40.71, -108.58),(40.71, -102.50),(37.29, -102.50)]],\n",
    "color=\"green\",\n",
    "fill_color=\"green\"\n",
    ")\n",
    "m = Map(center=(37.5531, -109.6914), zoom=5)\n",
    "m.add_layer(hole_polygon);\n",
    "m"
   ]
  },
  {
   "cell_type": "code",
   "execution_count": null,
   "metadata": {},
   "outputs": [],
   "source": [
    "from ipyleaflet import Map, Polygon\n",
    "multipolygon = Polygon(\n",
    "locations=[[(42, -49), (43, -49), (43, -48)],[(44,-49),(43, -50),(44,-50)]],\n",
    "color=\"green\",\n",
    "fill_color=\"green\"\n",
    ")\n",
    "m = Map(center=(42.5531, -48.6914), zoom=6)\n",
    "m.add_layer(multipolygon);\n",
    "m"
   ]
  },
  {
   "cell_type": "code",
   "execution_count": null,
   "metadata": {},
   "outputs": [],
   "source": [
    "from ipyleaflet import Map, basemaps, basemap_to_tiles, Rectangle\n",
    "watercolor = basemap_to_tiles(basemaps.Stamen.Watercolor)\n",
    "m = Map(layers=(watercolor, ), center=(53, 354), zoom=5)\n",
    "rectangle = Rectangle(bounds=((52, 354), (53, 360)))\n",
    "m.add_layer(rectangle)\n",
    "m"
   ]
  },
  {
   "cell_type": "code",
   "execution_count": null,
   "metadata": {},
   "outputs": [],
   "source": [
    "from ipyleaflet import Map, basemaps, basemap_to_tiles, Circle\n",
    "watercolor = basemap_to_tiles(basemaps.Stamen.Watercolor)\n",
    "m = Map(layers=(watercolor, ), center=(53, 354), zoom=5)\n",
    "circle = Circle()\n",
    "circle.location = (50, 354)\n",
    "circle.radius = 50000\n",
    "circle.color = \"green\"\n",
    "circle.fill_color = \"green\"\n",
    "m.add_layer(circle)\n",
    "m"
   ]
  },
  {
   "cell_type": "code",
   "execution_count": null,
   "metadata": {},
   "outputs": [],
   "source": [
    "from ipyleaflet import Map, basemaps, basemap_to_tiles, CircleMarker\n",
    "watercolor = basemap_to_tiles(basemaps.Stamen.Watercolor)\n",
    "m = Map(layers=(watercolor, ), center=(53, 354), zoom=5)\n",
    "circle_marker = CircleMarker()\n",
    "circle_marker.location = (55, 360)\n",
    "circle_marker.radius = 50\n",
    "circle_marker.color = \"red\"\n",
    "circle_marker.fill_color = \"red\"\n",
    "m.add_layer(circle_marker)\n",
    "m"
   ]
  },
  {
   "cell_type": "code",
   "execution_count": null,
   "metadata": {},
   "outputs": [],
   "source": [
    "from ipyleaflet import Map, Marker, MarkerCluster\n",
    "m = Map(center=(50, 0), zoom=5)\n",
    "marker1 = Marker(location=(48, -2))\n",
    "marker2 = Marker(location=(50, 0))\n",
    "marker3 = Marker(location=(52, 2))\n",
    "marker_cluster = MarkerCluster(\n",
    "markers=(marker1, marker2, marker3)\n",
    ")\n",
    "m.add_layer(marker_cluster);\n",
    "m\n"
   ]
  },
  {
   "cell_type": "code",
   "execution_count": null,
   "metadata": {},
   "outputs": [],
   "source": [
    "from ipyleaflet import Map, Heatmap\n",
    "from random import uniform\n",
    "m = Map(center=(0, 0), zoom=2)\n",
    "heatmap = Heatmap(\n",
    "locations=[[uniform(-80, 80), uniform(-180, 180), uniform(0, 1000)] for i in range(1000)],\n",
    "radius=20\n",
    ")\n",
    "m.add_layer(heatmap);\n",
    "m"
   ]
  },
  {
   "cell_type": "code",
   "execution_count": null,
   "metadata": {},
   "outputs": [],
   "source": [
    "# from ipyleaflet import Map, Velocity, TileLayer, basemaps\n",
    "# import xarray as xr\n",
    "# import os\n",
    "# if not os.path.exists('wind-global.nc'):\n",
    "#     url = 'https://github.com/benbovy/xvelmap/raw/master/notebooks/wind-global.nc'\n",
    "#     import requests\n",
    "#     r = requests.get(url)\n",
    "#     wind_data = r.content\n",
    "#     with open('wind-global.nc', 'wb') as f:\n",
    "#         f.write(wind_data)\n",
    "        \n",
    "# center = [0, 0]\n",
    "# zoom = 1\n",
    "# m = Map(center=center, zoom=zoom, interpolation='nearest', basemap=basemaps.CartoDB.DarkMatter)\n",
    "# ds = xr.open_dataset('wind-global.nc')\n",
    "# display_options = {\n",
    "# 'velocityType': 'Global Wind',\n",
    "# 'displayPosition': 'bottomleft',\n",
    "# 'displayEmptyString': 'No wind data'\n",
    "# }\n",
    "# wind = Velocity(data=ds,\n",
    "# zonal_speed='u_wind',\n",
    "# meridional_speed='v_wind',\n",
    "# latitude_dimension='lat',\n",
    "# longitude_dimension='lon',\n",
    "# velocity_scale=0.01,\n",
    "# max_velocity=20,\n",
    "# display_options=display_options)"
   ]
  },
  {
   "cell_type": "code",
   "execution_count": null,
   "metadata": {},
   "outputs": [],
   "source": [
    "from ipyleaflet import (\n",
    "Map, basemaps, basemap_to_tiles,\n",
    "Circle, Marker, Rectangle, LayerGroup\n",
    ")\n",
    "toner = basemap_to_tiles(basemaps.Stamen.Toner)\n",
    "m = Map(layers=(toner, ), center=(50, 354), zoom=5)\n",
    "# Create some layers\n",
    "marker = Marker(location=(50, 354))\n",
    "circle = Circle(location=(50, 370), radius=50000, color=\"yellow\", fill_color=\"yellow\")\n",
    "rectangle = Rectangle(bounds=((54, 354), (55, 360)), color=\"orange\", fill_color=\"orange\")\n",
    "# Create layer group\n",
    "layer_group = LayerGroup(layers=(marker, circle))\n",
    "m.add_layer(layer_group)\n",
    "layer_group.add_layer(rectangle)\n",
    "layer_group.remove_layer(circle)\n",
    "m"
   ]
  },
  {
   "cell_type": "code",
   "execution_count": null,
   "metadata": {},
   "outputs": [],
   "source": [
    "from ipyleaflet import Map, GeoJSON\n",
    "import json\n",
    "import os\n",
    "import requests\n",
    "if not os.path.exists('europe_110.geo.json'):\n",
    "    url = 'https://github.com/jupyter-widgets/ipyleaflet/raw/master/examples/europe_110.geo.json'\n",
    "    r = requests.get(url)\n",
    "    with open('europe_110.geo.json', 'w') as f:\n",
    "        f.write(r.content.decode(\"utf-8\"))\n",
    "with open('europe_110.geo.json', 'r') as f:\n",
    "    data = json.load(f)\n",
    "    \n",
    "m = Map(center=(50.6252978589571, 0.34580993652344), zoom=3)\n",
    "geo_json = GeoJSON(data=data, style = {'color': 'green', 'opacity':1, 'weight':1.9,'dashArray':'9', 'fillOpacity':0.1})\n",
    "m.add_layer(geo_json)\n",
    "m"
   ]
  },
  {
   "cell_type": "code",
   "execution_count": 4,
   "metadata": {},
   "outputs": [
    {
     "data": {
      "text/plain": [
       "geopandas.geodataframe.GeoDataFrame"
      ]
     },
     "execution_count": 4,
     "metadata": {},
     "output_type": "execute_result"
    }
   ],
   "source": [
    "from ipyleaflet import Map, GeoData, basemaps, LayersControl\n",
    "import geopandas\n",
    "import json\n",
    "countries = geopandas.read_file(geopandas.datasets.get_path('naturalearth_lowres'))\n",
    "rivers = geopandas.read_file(\"https://www.naturalearthdata.com/http//www.naturalearthdata.com/download/10m/physical/ne_10m_rivers_lake_centerlines.zip\")\n",
    "m = Map(center=(52.3,8.0), zoom = 3, basemap= basemaps.Esri.WorldTopoMap)\n",
    "geo_data = GeoData(geo_dataframe = countries,\n",
    "    style={'color': 'black', 'fillColor': '#3366cc', 'opacity':0.05,'weight':1.9, 'dashArray':'2', 'fillOpacity':0.6},\n",
    "    hover_style={'fillColor': 'red' , 'fillOpacity': 0.2},\n",
    "    name = 'Countries')\n",
    "rivers_data = GeoData(geo_dataframe = rivers,\n",
    "    style={'color': 'purple', 'opacity':3, 'weight':1.9, 'dashArray':'2', 'fillOpacity':0.6},\n",
    "    hover_style={'fillColor': 'red' , 'fillOpacity': 0.2},\n",
    "    name = 'Rivers')\n",
    "m.add_layer(rivers_data)\n",
    "m.add_layer(geo_data)\n",
    "m.add_control(LayersControl())\n",
    "m"
   ]
  },
  {
   "cell_type": "code",
   "execution_count": null,
   "metadata": {},
   "outputs": [],
   "source": [
    "import ipyleaflet\n",
    "import json\n",
    "import pandas as pd\n",
    "import os\n",
    "import requests\n",
    "from ipywidgets import link, FloatSlider\n",
    "from branca.colormap import linear\n",
    "def load_data(url, filename, file_type):\n",
    "    r = requests.get(url)\n",
    "    with open(filename, 'w') as f:\n",
    "        f.write(r.content.decode(\"utf-8\"))\n",
    "    with open(filename, 'r') as f:\n",
    "        return file_type(f)\n",
    "    \n",
    "geo_json_data = load_data(\n",
    "'https://raw.githubusercontent.com/jupyter-widgets/ipyleaflet/master/examples/us-states.json',\n",
    "'us-states.json',\n",
    "json.load)\n",
    "unemployment = load_data(\n",
    "'https://raw.githubusercontent.com/jupyter-widgets/ipyleaflet/master/examples/US_Unemployment_Oct2012.csv',\n",
    "'US_Unemployment_Oct2012.csv',\n",
    "pd.read_csv)\n",
    "unemployment = dict(zip(unemployment['State'].tolist(), unemployment['Unemployment'].tolist()))\n",
    "layer = ipyleaflet.Choropleth(\n",
    "geo_data=geo_json_data,\n",
    "choro_data=unemployment,\n",
    "colormap=linear.YlOrRd_04,\n",
    "border_color='black',\n",
    "style={'fillOpacity': 0.8, 'dashArray': '5, 5'})\n",
    "m = ipyleaflet.Map(center = (43,-100), zoom = 4)\n",
    "m.add_layer(layer)\n",
    "m\n",
    "\n",
    "# The Choropleth takes geo_data and choro_data as arguments.\n",
    "# The geo_data is a GeoJSON dictionary, for instance :\n",
    "# {\n",
    "# \"type\": \"FeatureCollection\",\n",
    "# \"features\":[{\n",
    "# \"type\":\"Feature\",\n",
    "# \"id\":\"AL\",\n",
    "# \"properties\":{\"name\":\"Alabama\"},\n",
    "# \"geometry\":{\n",
    "# \"type\":\"Polygon\",\n",
    "# \"coordinates\": [[[-87.359296,35.00118]]] ...\n",
    "# }\n",
    "# }]\n",
    "# }\n",
    "# The choro_data is a dictionary that takes 'id' from 'features' as key and float as value, in order to build the\n",
    "# colormap :\n",
    "# {'AL': 7.1,\n",
    "# 'AK': 6.8}"
   ]
  },
  {
   "cell_type": "code",
   "execution_count": null,
   "metadata": {},
   "outputs": [],
   "source": [
    "from ipyleaflet import Map, ZoomControl\n",
    "m = Map(zoom=5, center=[51.64, -76.52], zoom_control=False) # Do not automatically create a ZoomControl\n",
    "m.add_control(ZoomControl(position='topright', zoom_in_text=\"++\", zoom_out_text=\"--\"))\n",
    "m"
   ]
  },
  {
   "cell_type": "code",
   "execution_count": null,
   "metadata": {},
   "outputs": [],
   "source": [
    "# from ipyleaflet import Map, ScaleControl\n",
    "# m = Map(zoom=5, center=[51.64, -76.52])\n",
    "# m.add_control(ScaleControl(position='bottomleft'))\n",
    "# m"
   ]
  },
  {
   "cell_type": "code",
   "execution_count": null,
   "metadata": {},
   "outputs": [],
   "source": [
    "# Layers Control\n",
    "\n",
    "from ipyleaflet import Map, Marker, LayersControl\n",
    "m = Map(center=(50, 0), zoom=5)\n",
    "marker1 = Marker(name='marker1', location=(48, -2))\n",
    "marker2 = Marker(name='marker2', location=(50, 0))\n",
    "marker3 = Marker(name='marker3', location=(52, 2))\n",
    "m.add_layer(marker1)\n",
    "m.add_layer(marker2)\n",
    "m.add_layer(marker3)\n",
    "control = LayersControl(position='topright')\n",
    "m.add_control(control)\n",
    "m"
   ]
  },
  {
   "cell_type": "code",
   "execution_count": null,
   "metadata": {},
   "outputs": [],
   "source": [
    "# Fullscreen Control\n",
    "\n",
    "from ipyleaflet import Map, FullScreenControl\n",
    "m = Map(zoom=5, center=[51.64, -76.52])\n",
    "m.add_control(FullScreenControl())\n",
    "m"
   ]
  },
  {
   "cell_type": "code",
   "execution_count": null,
   "metadata": {},
   "outputs": [],
   "source": [
    "# Measure Control\n",
    "\n",
    "from ipyleaflet import Map, MeasureControl, basemaps\n",
    "m = Map(center=(43.0327, 6.0232), zoom=9, basemap=basemaps.Hydda.Full)\n",
    "measure = MeasureControl(\n",
    "position='bottomleft',\n",
    "active_color = 'orange',\n",
    "primary_length_unit = 'kilometers'\n",
    ")\n",
    "m.add_control(measure)\n",
    "measure.completed_color = 'red'\n",
    "measure.add_length_unit('yards', 1.09361, 4)\n",
    "measure.secondary_length_unit = 'yards'\n",
    "measure.add_area_unit('sqyards', 1.19599, 4)\n",
    "measure.secondary_area_unit = 'sqyards'\n",
    "m"
   ]
  },
  {
   "cell_type": "code",
   "execution_count": null,
   "metadata": {},
   "outputs": [],
   "source": [
    "# SplitMap Control\n",
    "\n",
    "from ipyleaflet import Map, basemaps, basemap_to_tiles, SplitMapControl\n",
    "m = Map(center=(42.6824, 365.581), zoom=5)\n",
    "right_layer = basemap_to_tiles(basemaps.NASAGIBS.ModisTerraTrueColorCR, \"2017-11-11\")\n",
    "left_layer = basemap_to_tiles(basemaps.NASAGIBS.ModisAquaBands721CR, \"2017-11-11\")\n",
    "control = SplitMapControl(left_layer=left_layer, right_layer=right_layer)\n",
    "m.add_control(control)\n",
    "m"
   ]
  },
  {
   "cell_type": "code",
   "execution_count": null,
   "metadata": {},
   "outputs": [],
   "source": [
    "# Draw Control\n",
    "\n",
    "from ipyleaflet import Map, basemaps, basemap_to_tiles, DrawControl\n",
    "watercolor = basemap_to_tiles(basemaps.Stamen.Watercolor)\n",
    "m = Map(layers=(watercolor, ), center=(50, 354), zoom=5)\n",
    "draw_control = DrawControl()\n",
    "draw_control.polyline = {\n",
    "\"shapeOptions\": {\n",
    "\"color\": \"#6bc2e5\",\n",
    "\"weight\": 8,\n",
    "\"opacity\": 1.0\n",
    "}\n",
    "}\n",
    "draw_control.polygon = {\n",
    "\"shapeOptions\": {\n",
    "\"fillColor\": \"#6be5c3\",\n",
    "\"color\": \"#6be5c3\",\n",
    "\"fillOpacity\": 1.0\n",
    "},\n",
    "\"drawError\": {\n",
    "\"color\": \"#dd253b\",\n",
    "\"message\": \"Oups!\"\n",
    "},\n",
    "\"allowIntersection\": False\n",
    "}\n",
    "draw_control.circle = {\n",
    "\"shapeOptions\": {\n",
    "\"fillColor\": \"#efed69\",\n",
    "\"color\": \"#efed69\",\n",
    "\"fillOpacity\": 1.0\n",
    "}\n",
    "}\n",
    "draw_control.rectangle = {\n",
    "\"shapeOptions\": {\n",
    "\"fillColor\": \"#fca45d\",\n",
    "\"color\": \"#fca45d\",\n",
    "\"fillOpacity\": 1.0\n",
    "}\n",
    "}\n",
    "m.add_control(draw_control)\n",
    "m\n"
   ]
  },
  {
   "cell_type": "code",
   "execution_count": null,
   "metadata": {},
   "outputs": [],
   "source": [
    "# Widget Control\n",
    "\n",
    "from ipyleaflet import Map, basemaps, WidgetControl\n",
    "from ipywidgets import IntSlider, ColorPicker, jslink\n",
    "m = Map(center=(46.01, 6.16), zoom=12, basemap=basemaps.Stamen.Terrain)\n",
    "zoom_slider = IntSlider(description='Zoom level:', min=0, max=15, value=7)\n",
    "jslink((zoom_slider, 'value'), (m, 'zoom'))\n",
    "widget_control1 = WidgetControl(widget=zoom_slider, position='topright')\n",
    "m.add_control(widget_control1)\n",
    "color_picker = ColorPicker(description='Pick a color:')\n",
    "widget_control2 = WidgetControl(widget=color_picker, position='bottomright')\n",
    "m.add_control(widget_control2)\n",
    "m"
   ]
  },
  {
   "cell_type": "code",
   "execution_count": null,
   "metadata": {},
   "outputs": [],
   "source": [
    "#########################"
   ]
  },
  {
   "cell_type": "code",
   "execution_count": 28,
   "metadata": {},
   "outputs": [
    {
     "data": {
      "application/vnd.jupyter.widget-view+json": {
       "model_id": "dc490ff785e8450da241cf0bf7ae44ef",
       "version_major": 2,
       "version_minor": 0
      },
      "text/plain": [
       "Map(center=[50.68541970841675, 370.9257745742798], controls=(ZoomControl(options=['position', 'zoom_in_text', …"
      ]
     },
     "metadata": {},
     "output_type": "display_data"
    }
   ],
   "source": [
    "from ipyleaflet import Map, Marker\n",
    "# center = (52.204793, 360.121558)\n",
    "center=(50.68541970841675, 370.9257745742798)\n",
    "m = Map(center=center, zoom=15)\n",
    "m"
   ]
  },
  {
   "cell_type": "code",
   "execution_count": 30,
   "metadata": {},
   "outputs": [
    {
     "data": {
      "text/plain": [
       "[50.68319005836287, 370.9087800979614]"
      ]
     },
     "execution_count": 30,
     "metadata": {},
     "output_type": "execute_result"
    }
   ],
   "source": [
    "m._trait_values['center']"
   ]
  },
  {
   "cell_type": "code",
   "execution_count": null,
   "metadata": {},
   "outputs": [],
   "source": [
    "from ipywidgets import HTML\n",
    "from ipyleaflet import Map, Marker, Popup\n",
    "center=(50.68541970841675, 370.9257745742798)\n",
    "zoom=15\n",
    "m = Map(center=center, zoom=zoom, close_popup_on_click=False)\n",
    "marker = Marker(location=(50.68359792909539, 370.9213972091675))\n",
    "m.add_layer(marker)\n",
    "message1 = HTML()\n",
    "message2 = HTML()\n",
    "message1.value = \"Try clicking the marker!\"\n",
    "# message2.value = \"Hello <b>World</b>\"\n",
    "message2.value = 'Hello <b>World</b><img src=\"https://media.tacdn.com/media/attractions-splice-spp-674x446/07/3a/66/d9.jpg?fit=crop&w=960&h=416\">'\n",
    "# Popup with a given location on the map:\n",
    "popup = Popup(\n",
    "location=center,\n",
    "child=message1,\n",
    "close_button=False,\n",
    "auto_close=False,\n",
    "close_on_escape_key=False\n",
    ")\n",
    "m.add_layer(popup)\n",
    "# Popup associated to a layer\n",
    "marker.popup = message2\n",
    "m"
   ]
  },
  {
   "cell_type": "code",
   "execution_count": null,
   "metadata": {},
   "outputs": [],
   "source": [
    "center=(50.68541970841675, 370.9257745742798)\n",
    "zoom=15\n",
    "m = Map(center=center, zoom=zoom, close_popup_on_click=False)\n",
    "marker = Marker(location=(50.68541970841675, 370.9257745742798))\n",
    "m.add_layer(marker)\n",
    "message1 = HTML()\n",
    "message2 = HTML()\n",
    "message1.value = \"Try clicking the marker!\"\n",
    "message2.value = 'Hello <b>World</b><img src=\"https://media.tacdn.com/media/attractions-splice-spp-674x446/07/3a/66/d9.jpg?fit=crop&w=960&h=416\">'\n",
    "# Popup with a given location on the map:\n",
    "popup = Popup(\n",
    "location=center,\n",
    "child=message1,\n",
    "close_button=False,\n",
    "auto_close=False,\n",
    "close_on_escape_key=False\n",
    ")\n",
    "m.add_layer(popup)\n",
    "# Popup associated to a layer\n",
    "marker.popup = message2\n",
    "m"
   ]
  },
  {
   "cell_type": "code",
   "execution_count": 36,
   "metadata": {},
   "outputs": [
    {
     "data": {
      "application/vnd.jupyter.widget-view+json": {
       "model_id": "068f3037436847b99be6d63b2c132bef",
       "version_major": 2,
       "version_minor": 0
      },
      "text/plain": [
       "Map(center=[50.68541970841675, 370.9257745742798], controls=(ZoomControl(options=['position', 'zoom_in_text', …"
      ]
     },
     "metadata": {},
     "output_type": "display_data"
    }
   ],
   "source": [
    "from ipyleaflet import Marker, Icon, Map, LayerGroup, LayersControl, MarkerCluster\n",
    "center=(50.68541970841675, 370.9257745742798)\n",
    "zoom=15\n",
    "m = Map(center=center, zoom=zoom)\n",
    "icon_wtf_wtf1 = Icon(icon_url='https://media.tacdn.com/media/attractions-splice-spp-674x446/07/3a/66/d9.jpg?fit=crop&w=960&h=416', icon_size=[67, 44], icon_anchor=[22,94])\n",
    "icon_mnt_watzmann = Icon(icon_url='https://www.tagblatt.de/Bilder/Im-Sommer-hat-das-Vater-Sohn-Duo-die-Ostwand-des-Watzmanns-670790.jpg', icon_size=[84, 56], icon_anchor=[22,94])\n",
    "icon_mnt_zugspitze = Icon(icon_url='https://www.zugspitzarena.com/website/var/tmp/image-thumbnails/220000/220994/thumb__standard-header/dsc00797kl.jpeg', icon_size=[140, 39], icon_anchor=[22,94])\n",
    "\n",
    "mark_wtf = Marker(location=(50.68541970841675, 370.9257745742798), icon=icon_wtf_wtf1)\n",
    "mark_mnt_watzmann = Marker(location=(50.68664325183628, 370.9129858016968), icon=icon_mnt_watzmann)\n",
    "mark_mnt_zugspitze = Marker(location=(50.68319005836287, 370.9087800979614), icon=icon_mnt_zugspitze)\n",
    "\n",
    "layer_group_wtf = LayerGroup(name='waterfalls', layers=(mark_wtf,))\n",
    "layer_group_mnt = LayerGroup(name='mountains', layers=(mark_mnt_watzmann, mark_mnt_zugspitze))\n",
    "\n",
    "marker_cluster = MarkerCluster(name='mountains', markers=(mark_mnt_watzmann, mark_mnt_zugspitze))\n",
    "m.add_layer(marker_cluster);\n",
    "\n",
    "m.add_layer(layer_group_wtf)\n",
    "# m.add_layer(layer_group_mnt)\n",
    "\n",
    "control = LayersControl(position='topright')\n",
    "m.add_control(control)\n",
    "m"
   ]
  },
  {
   "cell_type": "code",
   "execution_count": null,
   "metadata": {},
   "outputs": [],
   "source": [
    "#######################################"
   ]
  },
  {
   "cell_type": "code",
   "execution_count": 2,
   "metadata": {},
   "outputs": [
    {
     "name": "stdout",
     "output_type": "stream",
     "text": [
      "     city                   geometry\n",
      "0  Berlin  POINT (13.40833 52.51861)\n",
      "1   Paris   POINT (2.35167 48.85667)\n",
      "2  Munich  POINT (11.57556 48.13722)\n"
     ]
    },
    {
     "data": {
      "image/png": "[encoded data removed]",
      "text/plain": [
       "<Figure size 432x288 with 1 Axes>"
      ]
     },
     "metadata": {
      "needs_background": "light"
     },
     "output_type": "display_data"
    }
   ],
   "source": [
    "# 3rd party modules\n",
    "import pandas as pd\n",
    "import geopandas as gpd\n",
    "import shapely\n",
    "# needs 'descartes' module\n",
    "\n",
    "import matplotlib.pyplot as plt\n",
    "\n",
    "df = pd.DataFrame({'city': ['Berlin', 'Paris', 'Munich'],\n",
    "                   'latitude': [52.518611111111, 48.856666666667, 48.137222222222],\n",
    "                   'longitude': [13.408333333333, 2.3516666666667, 11.575555555556]})\n",
    "gdf = gpd.GeoDataFrame(df.drop(['latitude', 'longitude'], axis=1),\n",
    "                       crs={'init': 'epsg:4326'},\n",
    "                       geometry=[shapely.geometry.Point(xy)\n",
    "                                 for xy in zip(df.longitude, df.latitude)])\n",
    "print(gdf)\n",
    "\n",
    "world = gpd.read_file(gpd.datasets.get_path('naturalearth_lowres'))\n",
    "base = world.plot(color='white', edgecolor='black')\n",
    "gdf.plot(ax=base, marker='o', color='red', markersize=5)\n",
    "\n",
    "plt.show()"
   ]
  },
  {
   "cell_type": "code",
   "execution_count": null,
   "metadata": {},
   "outputs": [],
   "source": [
    "#################################3"
   ]
  },
  {
   "cell_type": "code",
   "execution_count": 3,
   "metadata": {},
   "outputs": [],
   "source": [
    "import fiona"
   ]
  },
  {
   "cell_type": "code",
   "execution_count": 4,
   "metadata": {},
   "outputs": [
    {
     "data": {
      "text/plain": [
       "{'AeronavFAA': 'r',\n",
       " 'ARCGEN': 'r',\n",
       " 'BNA': 'raw',\n",
       " 'DXF': 'raw',\n",
       " 'CSV': 'raw',\n",
       " 'OpenFileGDB': 'r',\n",
       " 'ESRIJSON': 'r',\n",
       " 'ESRI Shapefile': 'raw',\n",
       " 'GeoJSON': 'rw',\n",
       " 'GeoJSONSeq': 'rw',\n",
       " 'GPKG': 'rw',\n",
       " 'GML': 'raw',\n",
       " 'GPX': 'raw',\n",
       " 'GPSTrackMaker': 'raw',\n",
       " 'Idrisi': 'r',\n",
       " 'MapInfo File': 'raw',\n",
       " 'DGN': 'raw',\n",
       " 'PCIDSK': 'r',\n",
       " 'S57': 'r',\n",
       " 'SEGY': 'r',\n",
       " 'SUA': 'r',\n",
       " 'TopoJSON': 'r'}"
      ]
     },
     "execution_count": 4,
     "metadata": {},
     "output_type": "execute_result"
    }
   ],
   "source": [
    "fiona.supported_drivers"
   ]
  },
  {
   "cell_type": "code",
   "execution_count": 5,
   "metadata": {},
   "outputs": [],
   "source": [
    "fiona.drvsupport.supported_drivers['kml'] = 'rw' # enable KML support \n",
    "fiona.drvsupport.supported_drivers['KML'] = 'rw'\n",
    "fiona.drvsupport.supported_drivers['kmz'] = 'r' # enable KMZ support \n",
    "fiona.drvsupport.supported_drivers['KMZ'] = 'r'"
   ]
  },
  {
   "cell_type": "code",
   "execution_count": 7,
   "metadata": {},
   "outputs": [
    {
     "data": {
      "text/plain": [
       "'G:\\\\Temp\\\\doc.kml'"
      ]
     },
     "execution_count": 7,
     "metadata": {},
     "output_type": "execute_result"
    }
   ],
   "source": [
    "from zipfile import ZipFile\n",
    "\n",
    "kmz_filename = \"g:\\Repos\\pois\\Takeout\\My Maps\\poi_ Germany.kmz\"\n",
    "kmlFilename = \"poi_Germany.kml\"\n",
    "tempDir = \"G:\\Temp\"\n",
    "\n",
    "kmz = ZipFile(kmz_filename, 'r')\n",
    "kmz.extract('doc.kml', tempDir)"
   ]
  },
  {
   "cell_type": "code",
   "execution_count": null,
   "metadata": {},
   "outputs": [],
   "source": [
    "import os\n",
    "import geopandas as gpd\n",
    "gdf = gpd.read_file(os.path.join(tempDir,'doc.kml'))\n",
    "gdf.head()"
   ]
  },
  {
   "cell_type": "code",
   "execution_count": null,
   "metadata": {},
   "outputs": [],
   "source": [
    "gdf.Description[0]"
   ]
  },
  {
   "cell_type": "code",
   "execution_count": 17,
   "metadata": {},
   "outputs": [
    {
     "data": {
      "text/plain": [
       "shapely.geometry.point.Point"
      ]
     },
     "execution_count": 17,
     "metadata": {},
     "output_type": "execute_result"
    }
   ],
   "source": [
    "type(gdf.geometry[0])"
   ]
  },
  {
   "cell_type": "code",
   "execution_count": 6,
   "metadata": {},
   "outputs": [
    {
     "name": "stdout",
     "output_type": "stream",
     "text": [
      "{'geometry': {'coordinates': (7.06266770000002, 49.9197888, 0.0),\n",
      "              'type': 'Point'},\n",
      " 'id': '1',\n",
      " 'properties': OrderedDict([('Name', 'Бернкастель-Кус'),\n",
      "                            ('Description',\n",
      "                             '<img '\n",
      "                             'src=\"https://lh4.googleusercontent.com/proxy/Jup1NBuL1b-2ODDixsBUp7SD7pesl9qd1GaWEtVa3rQWHUTgzgL4iZ0Dt94J1dnSPiwspUnfschyxMs2Z9Q\" '\n",
      "                             'height=\"200\" width=\"auto\" /><br><br><br><br><img '\n",
      "                             'src=\"https://lh6.googleusercontent.com/proxy/yw-EIi_gmq0KTO5EpHJnik-XVB7bMKUMg4Vyvrk9SAbxkzGpqs6NGGHBCCAERqHL0QRPgrYDfw04grvl0EC_4GyM2kx3r8-i1Gy6LGsGwbvaIcn8gOJ9H-4\" '\n",
      "                             'height=\"200\" width=\"auto\" />')]),\n",
      " 'type': 'Feature'}\n"
     ]
    }
   ],
   "source": [
    "import pprint\n",
    "# with fiona.open(\"g:\\Repos\\pois\\Takeout\\My Maps\\poi_ Germany.kmz\\doc.kml\") as kml:\n",
    "with fiona.open(\"zip://g:\\Repos\\pois\\Takeout\\My Maps\\poi_ Germany.kmz\\doc.kml\") as kml:\n",
    "    pprint.pprint(kml[1])\n",
    "\n",
    "#     gdf2 = gpd.read_file(kml)\n",
    "#     gdf2.head()"
   ]
  },
  {
   "cell_type": "code",
   "execution_count": null,
   "metadata": {},
   "outputs": [],
   "source": [
    "path_to_KMZ = \"g:\\Repos\\pois\\Takeout\\My Maps\\poi_ Germany.kmz\"\n",
    "file_within_archive = \"doc.kml\"\n",
    "with fiona.open('/vsizip/' + path_to_KMZ + '/' + file_within_archive) as source:\n",
    "    pprint.pprint(source[1])"
   ]
  },
  {
   "cell_type": "code",
   "execution_count": 7,
   "metadata": {},
   "outputs": [
    {
     "data": {
      "text/html": [
       "<div>\n",
       "<style scoped>\n",
       "    .dataframe tbody tr th:only-of-type {\n",
       "        vertical-align: middle;\n",
       "    }\n",
       "\n",
       "    .dataframe tbody tr th {\n",
       "        vertical-align: top;\n",
       "    }\n",
       "\n",
       "    .dataframe thead th {\n",
       "        text-align: right;\n",
       "    }\n",
       "</style>\n",
       "<table border=\"1\" class=\"dataframe\">\n",
       "  <thead>\n",
       "    <tr style=\"text-align: right;\">\n",
       "      <th></th>\n",
       "      <th>Name</th>\n",
       "      <th>Description</th>\n",
       "      <th>geometry</th>\n",
       "    </tr>\n",
       "  </thead>\n",
       "  <tbody>\n",
       "    <tr>\n",
       "      <th>0</th>\n",
       "      <td>Бамберг</td>\n",
       "      <td>&lt;img src=\"https://lh3.googleusercontent.com/pr...</td>\n",
       "      <td>POINT Z (10.90276 49.89881 0.00000)</td>\n",
       "    </tr>\n",
       "    <tr>\n",
       "      <th>1</th>\n",
       "      <td>Бернкастель-Кус</td>\n",
       "      <td>&lt;img src=\"https://lh4.googleusercontent.com/pr...</td>\n",
       "      <td>POINT Z (7.06267 49.91979 0.00000)</td>\n",
       "    </tr>\n",
       "    <tr>\n",
       "      <th>2</th>\n",
       "      <td>Трабен-Трарбах</td>\n",
       "      <td>&lt;img src=\"https://lh3.googleusercontent.com/pr...</td>\n",
       "      <td>POINT Z (7.12061 49.95519 0.00000)</td>\n",
       "    </tr>\n",
       "    <tr>\n",
       "      <th>3</th>\n",
       "      <td>Санкт-Гоарсхаузен</td>\n",
       "      <td>&lt;img src=\"https://lh6.googleusercontent.com/pr...</td>\n",
       "      <td>POINT Z (7.71528 50.15472 0.00000)</td>\n",
       "    </tr>\n",
       "    <tr>\n",
       "      <th>4</th>\n",
       "      <td>Бахарах</td>\n",
       "      <td>&lt;img src=\"https://lh3.googleusercontent.com/pr...</td>\n",
       "      <td>POINT Z (7.76945 50.05688 0.00000)</td>\n",
       "    </tr>\n",
       "  </tbody>\n",
       "</table>\n",
       "</div>"
      ],
      "text/plain": [
       "                Name                                        Description  \\\n",
       "0            Бамберг  <img src=\"https://lh3.googleusercontent.com/pr...   \n",
       "1    Бернкастель-Кус  <img src=\"https://lh4.googleusercontent.com/pr...   \n",
       "2     Трабен-Трарбах  <img src=\"https://lh3.googleusercontent.com/pr...   \n",
       "3  Санкт-Гоарсхаузен  <img src=\"https://lh6.googleusercontent.com/pr...   \n",
       "4            Бахарах  <img src=\"https://lh3.googleusercontent.com/pr...   \n",
       "\n",
       "                              geometry  \n",
       "0  POINT Z (10.90276 49.89881 0.00000)  \n",
       "1   POINT Z (7.06267 49.91979 0.00000)  \n",
       "2   POINT Z (7.12061 49.95519 0.00000)  \n",
       "3   POINT Z (7.71528 50.15472 0.00000)  \n",
       "4   POINT Z (7.76945 50.05688 0.00000)  "
      ]
     },
     "execution_count": 7,
     "metadata": {},
     "output_type": "execute_result"
    }
   ],
   "source": [
    "gdf = gpd.read_file(\"zip://g:\\Repos\\pois\\Takeout\\My Maps\\poi_ Germany.kmz\\doc.kml\")\n",
    "gdf.head()"
   ]
  },
  {
   "cell_type": "code",
   "execution_count": 17,
   "metadata": {},
   "outputs": [
    {
     "data": {
      "text/html": [
       "<div>\n",
       "<style scoped>\n",
       "    .dataframe tbody tr th:only-of-type {\n",
       "        vertical-align: middle;\n",
       "    }\n",
       "\n",
       "    .dataframe tbody tr th {\n",
       "        vertical-align: top;\n",
       "    }\n",
       "\n",
       "    .dataframe thead th {\n",
       "        text-align: right;\n",
       "    }\n",
       "</style>\n",
       "<table border=\"1\" class=\"dataframe\">\n",
       "  <thead>\n",
       "    <tr style=\"text-align: right;\">\n",
       "      <th></th>\n",
       "      <th>pop_est</th>\n",
       "      <th>continent</th>\n",
       "      <th>name</th>\n",
       "      <th>iso_a3</th>\n",
       "      <th>gdp_md_est</th>\n",
       "      <th>geometry</th>\n",
       "    </tr>\n",
       "  </thead>\n",
       "  <tbody>\n",
       "    <tr>\n",
       "      <th>0</th>\n",
       "      <td>920938</td>\n",
       "      <td>Oceania</td>\n",
       "      <td>Fiji</td>\n",
       "      <td>FJI</td>\n",
       "      <td>8374.0</td>\n",
       "      <td>MULTIPOLYGON (((180.00000 -16.06713, 180.00000...</td>\n",
       "    </tr>\n",
       "    <tr>\n",
       "      <th>1</th>\n",
       "      <td>53950935</td>\n",
       "      <td>Africa</td>\n",
       "      <td>Tanzania</td>\n",
       "      <td>TZA</td>\n",
       "      <td>150600.0</td>\n",
       "      <td>POLYGON ((33.90371 -0.95000, 34.07262 -1.05982...</td>\n",
       "    </tr>\n",
       "    <tr>\n",
       "      <th>2</th>\n",
       "      <td>603253</td>\n",
       "      <td>Africa</td>\n",
       "      <td>W. Sahara</td>\n",
       "      <td>ESH</td>\n",
       "      <td>906.5</td>\n",
       "      <td>POLYGON ((-8.66559 27.65643, -8.66512 27.58948...</td>\n",
       "    </tr>\n",
       "    <tr>\n",
       "      <th>3</th>\n",
       "      <td>35623680</td>\n",
       "      <td>North America</td>\n",
       "      <td>Canada</td>\n",
       "      <td>CAN</td>\n",
       "      <td>1674000.0</td>\n",
       "      <td>MULTIPOLYGON (((-122.84000 49.00000, -122.9742...</td>\n",
       "    </tr>\n",
       "    <tr>\n",
       "      <th>4</th>\n",
       "      <td>326625791</td>\n",
       "      <td>North America</td>\n",
       "      <td>United States of America</td>\n",
       "      <td>USA</td>\n",
       "      <td>18560000.0</td>\n",
       "      <td>MULTIPOLYGON (((-122.84000 49.00000, -120.0000...</td>\n",
       "    </tr>\n",
       "  </tbody>\n",
       "</table>\n",
       "</div>"
      ],
      "text/plain": [
       "     pop_est      continent                      name iso_a3  gdp_md_est  \\\n",
       "0     920938        Oceania                      Fiji    FJI      8374.0   \n",
       "1   53950935         Africa                  Tanzania    TZA    150600.0   \n",
       "2     603253         Africa                 W. Sahara    ESH       906.5   \n",
       "3   35623680  North America                    Canada    CAN   1674000.0   \n",
       "4  326625791  North America  United States of America    USA  18560000.0   \n",
       "\n",
       "                                            geometry  \n",
       "0  MULTIPOLYGON (((180.00000 -16.06713, 180.00000...  \n",
       "1  POLYGON ((33.90371 -0.95000, 34.07262 -1.05982...  \n",
       "2  POLYGON ((-8.66559 27.65643, -8.66512 27.58948...  \n",
       "3  MULTIPOLYGON (((-122.84000 49.00000, -122.9742...  \n",
       "4  MULTIPOLYGON (((-122.84000 49.00000, -120.0000...  "
      ]
     },
     "execution_count": 17,
     "metadata": {},
     "output_type": "execute_result"
    }
   ],
   "source": [
    "# import geopandas as gpd\n",
    "world = gpd.read_file(gpd.datasets.get_path('naturalearth_lowres'))\n",
    "world.head()"
   ]
  },
  {
   "cell_type": "code",
   "execution_count": 21,
   "metadata": {},
   "outputs": [
    {
     "data": {
      "text/plain": [
       "{'init': 'epsg:4326'}"
      ]
     },
     "execution_count": 21,
     "metadata": {},
     "output_type": "execute_result"
    }
   ],
   "source": [
    "world.crs"
   ]
  },
  {
   "cell_type": "code",
   "execution_count": 23,
   "metadata": {},
   "outputs": [
    {
     "data": {
      "text/plain": [
       "0            Oceania\n",
       "1             Africa\n",
       "2             Africa\n",
       "3      North America\n",
       "4      North America\n",
       "           ...      \n",
       "172           Europe\n",
       "173           Europe\n",
       "174           Europe\n",
       "175    North America\n",
       "176           Africa\n",
       "Name: continent, Length: 177, dtype: object"
      ]
     },
     "execution_count": 23,
     "metadata": {},
     "output_type": "execute_result"
    }
   ],
   "source": [
    "world.continent"
   ]
  },
  {
   "cell_type": "code",
   "execution_count": 29,
   "metadata": {},
   "outputs": [
    {
     "data": {
      "text/plain": [
       "<matplotlib.axes._subplots.AxesSubplot at 0x27cd5fd5860>"
      ]
     },
     "execution_count": 29,
     "metadata": {},
     "output_type": "execute_result"
    },
    {
     "data": {
      "image/png": "[encoded data removed]",
      "text/plain": [
       "<Figure size 432x288 with 1 Axes>"
      ]
     },
     "metadata": {
      "needs_background": "light"
     },
     "output_type": "display_data"
    }
   ],
   "source": [
    "# world = gpd.read_file(gpd.datasets.get_path('naturalearth_lowres'))\n",
    "\n",
    "# We restrict to South America.\n",
    "# ax = world[world.continent == 'South America'].plot(color='white', edgecolor='black')\n",
    "ax = world[world.name == 'Germany'].plot(color='white', edgecolor='black')\n",
    "# ax = world[world.name == 'Austria'].plot(color='white', edgecolor='black')\n",
    "\n",
    "# We can now plot our ``GeoDataFrame``.\n",
    "gdf.plot(ax=ax, color='red')\n",
    "\n",
    "# plt.show()"
   ]
  },
  {
   "cell_type": "code",
   "execution_count": null,
   "metadata": {},
   "outputs": [],
   "source": []
  },
  {
   "cell_type": "code",
   "execution_count": null,
   "metadata": {},
   "outputs": [],
   "source": []
  },
  {
   "cell_type": "code",
   "execution_count": null,
   "metadata": {},
   "outputs": [],
   "source": []
  },
  {
   "cell_type": "code",
   "execution_count": null,
   "metadata": {},
   "outputs": [],
   "source": []
  },
  {
   "cell_type": "code",
   "execution_count": null,
   "metadata": {},
   "outputs": [],
   "source": []
  },
  {
   "cell_type": "code",
   "execution_count": null,
   "metadata": {},
   "outputs": [],
   "source": []
  },
  {
   "cell_type": "code",
   "execution_count": null,
   "metadata": {},
   "outputs": [],
   "source": []
  },
  {
   "cell_type": "code",
   "execution_count": null,
   "metadata": {},
   "outputs": [],
   "source": []
  },
  {
   "cell_type": "code",
   "execution_count": null,
   "metadata": {},
   "outputs": [],
   "source": []
  }
 ],
 "metadata": {
  "kernelspec": {
   "display_name": "Python 3",
   "language": "python",
   "name": "python3"
  },
  "language_info": {
   "codemirror_mode": {
    "name": "ipython",
    "version": 3
   },
   "file_extension": ".py",
   "mimetype": "text/x-python",
   "name": "python",
   "nbconvert_exporter": "python",
   "pygments_lexer": "ipython3",
   "version": "3.6.9"
  }
 },
 "nbformat": 4,
 "nbformat_minor": 2
}
